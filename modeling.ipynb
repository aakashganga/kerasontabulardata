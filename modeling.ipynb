{
 "cells": [
  {
   "cell_type": "code",
   "execution_count": 1,
   "metadata": {},
   "outputs": [
    {
     "name": "stderr",
     "output_type": "stream",
     "text": [
      "Using TensorFlow backend.\n"
     ]
    }
   ],
   "source": [
    "'''\n",
    "    This script provides code for training a neural network with entity embeddings\n",
    "    of the 'cat' variables. For more details on entity embedding, see:\n",
    "    https://github.com/entron/entity-embedding-rossmann\n",
    "    \n",
    "    8-Fold training with 3 averaged runs per fold. Results may improve with more folds & runs.\n",
    "'''\n",
    "\n",
    "import numpy as np\n",
    "import pandas as pd\n",
    "\n",
    "#random seeds for stochastic parts of neural network \n",
    "np.random.seed(10)\n",
    "from tensorflow import set_random_seed\n",
    "set_random_seed(15)\n",
    "\n",
    "from keras.models import Sequential, Model\n",
    "from keras.layers import *\n",
    "from keras.layers.embeddings import Embedding\n",
    "\n",
    "from sklearn.model_selection import StratifiedKFold"
   ]
  },
  {
   "cell_type": "code",
   "execution_count": 2,
   "metadata": {
    "collapsed": true
   },
   "outputs": [],
   "source": [
    "from fastai.structured import *\n",
    "from fastai.column_data import *\n",
    "np.set_printoptions(threshold=50, edgeitems=20)\n",
    "\n",
    "PATH='/home/amit.dingare/safedriverprediction/'"
   ]
  },
  {
   "cell_type": "code",
   "execution_count": 3,
   "metadata": {
    "collapsed": true
   },
   "outputs": [],
   "source": [
    "#Data loading & preprocessing\n",
    "df_train = pd.read_csv('train.csv')\n",
    "df_test = pd.read_csv('test.csv')\n",
    "\n",
    "X_train, y_train = df_train.iloc[:,2:], df_train.target\n",
    "X_test = df_test.iloc[:,1:]"
   ]
  },
  {
   "cell_type": "code",
   "execution_count": 4,
   "metadata": {},
   "outputs": [
    {
     "data": {
      "text/plain": [
       "(595212, 57)"
      ]
     },
     "execution_count": 4,
     "metadata": {},
     "output_type": "execute_result"
    }
   ],
   "source": [
    "df_train.iloc[:,2:].shape"
   ]
  },
  {
   "cell_type": "code",
   "execution_count": 5,
   "metadata": {
    "collapsed": true
   },
   "outputs": [],
   "source": [
    "cols_use = [c for c in X_train.columns if (not c.startswith('ps_calc_'))]"
   ]
  },
  {
   "cell_type": "code",
   "execution_count": 6,
   "metadata": {},
   "outputs": [
    {
     "data": {
      "text/plain": [
       "37"
      ]
     },
     "execution_count": 6,
     "metadata": {},
     "output_type": "execute_result"
    }
   ],
   "source": [
    "len(cols_use)"
   ]
  },
  {
   "cell_type": "code",
   "execution_count": 7,
   "metadata": {
    "collapsed": true
   },
   "outputs": [],
   "source": [
    "X_train = X_train[cols_use]\n",
    "X_test = X_test[cols_use]\n",
    "\n",
    "col_vals_dict = {c: list(X_train[c].unique()) for c in X_train.columns if c.endswith('_cat')}"
   ]
  },
  {
   "cell_type": "code",
   "execution_count": 8,
   "metadata": {
    "collapsed": true,
    "scrolled": false
   },
   "outputs": [],
   "source": [
    "catcols = [i for i in X_train.columns.tolist() if '_cat' in i]"
   ]
  },
  {
   "cell_type": "code",
   "execution_count": 9,
   "metadata": {},
   "outputs": [
    {
     "data": {
      "text/plain": [
       "14"
      ]
     },
     "execution_count": 9,
     "metadata": {},
     "output_type": "execute_result"
    }
   ],
   "source": [
    "len(catcols)"
   ]
  },
  {
   "cell_type": "code",
   "execution_count": 10,
   "metadata": {},
   "outputs": [
    {
     "data": {
      "text/plain": [
       "['ps_ind_02_cat',\n",
       " 'ps_ind_04_cat',\n",
       " 'ps_ind_05_cat',\n",
       " 'ps_car_01_cat',\n",
       " 'ps_car_02_cat',\n",
       " 'ps_car_03_cat',\n",
       " 'ps_car_04_cat',\n",
       " 'ps_car_05_cat',\n",
       " 'ps_car_06_cat',\n",
       " 'ps_car_07_cat',\n",
       " 'ps_car_08_cat',\n",
       " 'ps_car_09_cat',\n",
       " 'ps_car_10_cat',\n",
       " 'ps_car_11_cat']"
      ]
     },
     "execution_count": 10,
     "metadata": {},
     "output_type": "execute_result"
    }
   ],
   "source": [
    "catcols"
   ]
  },
  {
   "cell_type": "code",
   "execution_count": 11,
   "metadata": {},
   "outputs": [
    {
     "data": {
      "text/html": [
       "<div>\n",
       "<style scoped>\n",
       "    .dataframe tbody tr th:only-of-type {\n",
       "        vertical-align: middle;\n",
       "    }\n",
       "\n",
       "    .dataframe tbody tr th {\n",
       "        vertical-align: top;\n",
       "    }\n",
       "\n",
       "    .dataframe thead th {\n",
       "        text-align: right;\n",
       "    }\n",
       "</style>\n",
       "<table border=\"1\" class=\"dataframe\">\n",
       "  <thead>\n",
       "    <tr style=\"text-align: right;\">\n",
       "      <th></th>\n",
       "      <th>ps_ind_02_cat</th>\n",
       "      <th>ps_ind_04_cat</th>\n",
       "      <th>ps_ind_05_cat</th>\n",
       "      <th>ps_car_01_cat</th>\n",
       "      <th>ps_car_02_cat</th>\n",
       "      <th>ps_car_03_cat</th>\n",
       "      <th>ps_car_04_cat</th>\n",
       "      <th>ps_car_05_cat</th>\n",
       "      <th>ps_car_06_cat</th>\n",
       "      <th>ps_car_07_cat</th>\n",
       "      <th>ps_car_08_cat</th>\n",
       "      <th>ps_car_09_cat</th>\n",
       "      <th>ps_car_10_cat</th>\n",
       "      <th>ps_car_11_cat</th>\n",
       "    </tr>\n",
       "  </thead>\n",
       "  <tbody>\n",
       "    <tr>\n",
       "      <th>0</th>\n",
       "      <td>2</td>\n",
       "      <td>1</td>\n",
       "      <td>0</td>\n",
       "      <td>10</td>\n",
       "      <td>1</td>\n",
       "      <td>-1</td>\n",
       "      <td>0</td>\n",
       "      <td>1</td>\n",
       "      <td>4</td>\n",
       "      <td>1</td>\n",
       "      <td>0</td>\n",
       "      <td>0</td>\n",
       "      <td>1</td>\n",
       "      <td>12</td>\n",
       "    </tr>\n",
       "    <tr>\n",
       "      <th>1</th>\n",
       "      <td>1</td>\n",
       "      <td>0</td>\n",
       "      <td>0</td>\n",
       "      <td>11</td>\n",
       "      <td>1</td>\n",
       "      <td>-1</td>\n",
       "      <td>0</td>\n",
       "      <td>-1</td>\n",
       "      <td>11</td>\n",
       "      <td>1</td>\n",
       "      <td>1</td>\n",
       "      <td>2</td>\n",
       "      <td>1</td>\n",
       "      <td>19</td>\n",
       "    </tr>\n",
       "    <tr>\n",
       "      <th>2</th>\n",
       "      <td>4</td>\n",
       "      <td>1</td>\n",
       "      <td>0</td>\n",
       "      <td>7</td>\n",
       "      <td>1</td>\n",
       "      <td>-1</td>\n",
       "      <td>0</td>\n",
       "      <td>-1</td>\n",
       "      <td>14</td>\n",
       "      <td>1</td>\n",
       "      <td>1</td>\n",
       "      <td>2</td>\n",
       "      <td>1</td>\n",
       "      <td>60</td>\n",
       "    </tr>\n",
       "    <tr>\n",
       "      <th>3</th>\n",
       "      <td>1</td>\n",
       "      <td>0</td>\n",
       "      <td>0</td>\n",
       "      <td>7</td>\n",
       "      <td>1</td>\n",
       "      <td>0</td>\n",
       "      <td>0</td>\n",
       "      <td>1</td>\n",
       "      <td>11</td>\n",
       "      <td>1</td>\n",
       "      <td>1</td>\n",
       "      <td>3</td>\n",
       "      <td>1</td>\n",
       "      <td>104</td>\n",
       "    </tr>\n",
       "    <tr>\n",
       "      <th>4</th>\n",
       "      <td>2</td>\n",
       "      <td>1</td>\n",
       "      <td>0</td>\n",
       "      <td>11</td>\n",
       "      <td>1</td>\n",
       "      <td>-1</td>\n",
       "      <td>0</td>\n",
       "      <td>-1</td>\n",
       "      <td>14</td>\n",
       "      <td>1</td>\n",
       "      <td>1</td>\n",
       "      <td>2</td>\n",
       "      <td>1</td>\n",
       "      <td>82</td>\n",
       "    </tr>\n",
       "  </tbody>\n",
       "</table>\n",
       "</div>"
      ],
      "text/plain": [
       "   ps_ind_02_cat  ps_ind_04_cat  ps_ind_05_cat  ps_car_01_cat  ps_car_02_cat  \\\n",
       "0              2              1              0             10              1   \n",
       "1              1              0              0             11              1   \n",
       "2              4              1              0              7              1   \n",
       "3              1              0              0              7              1   \n",
       "4              2              1              0             11              1   \n",
       "\n",
       "   ps_car_03_cat  ps_car_04_cat  ps_car_05_cat  ps_car_06_cat  ps_car_07_cat  \\\n",
       "0             -1              0              1              4              1   \n",
       "1             -1              0             -1             11              1   \n",
       "2             -1              0             -1             14              1   \n",
       "3              0              0              1             11              1   \n",
       "4             -1              0             -1             14              1   \n",
       "\n",
       "   ps_car_08_cat  ps_car_09_cat  ps_car_10_cat  ps_car_11_cat  \n",
       "0              0              0              1             12  \n",
       "1              1              2              1             19  \n",
       "2              1              2              1             60  \n",
       "3              1              3              1            104  \n",
       "4              1              2              1             82  "
      ]
     },
     "execution_count": 11,
     "metadata": {},
     "output_type": "execute_result"
    }
   ],
   "source": [
    "X_train[catcols].head()"
   ]
  },
  {
   "cell_type": "code",
   "execution_count": 12,
   "metadata": {},
   "outputs": [
    {
     "name": "stdout",
     "output_type": "stream",
     "text": [
      "ps_ind_02_cat: 5 values\n",
      "ps_ind_04_cat: 3 values\n",
      "ps_ind_05_cat: 8 values\n",
      "ps_car_01_cat: 13 values\n",
      "ps_car_02_cat: 3 values\n",
      "ps_car_03_cat: 3 values\n",
      "ps_car_04_cat: 10 values\n",
      "ps_car_05_cat: 3 values\n",
      "ps_car_06_cat: 18 values\n",
      "ps_car_07_cat: 3 values\n",
      "ps_car_09_cat: 6 values\n",
      "ps_car_10_cat: 3 values\n",
      "ps_car_11_cat: 104 values\n",
      "\n",
      "\n"
     ]
    }
   ],
   "source": [
    "embed_cols = []\n",
    "cat_sz = {}\n",
    "for c in col_vals_dict:\n",
    "    if len(col_vals_dict[c])>2:\n",
    "        embed_cols.append(c)\n",
    "        print(c + ': %d values' % len(col_vals_dict[c])) #look at value counts to know the embedding dimensions\n",
    "        cat_sz[c] = len(col_vals_dict[c])\n",
    "print('\\n')"
   ]
  },
  {
   "cell_type": "code",
   "execution_count": 13,
   "metadata": {},
   "outputs": [
    {
     "data": {
      "text/plain": [
       "{'ps_ind_02_cat': 5,\n",
       " 'ps_ind_04_cat': 3,\n",
       " 'ps_ind_05_cat': 8,\n",
       " 'ps_car_01_cat': 13,\n",
       " 'ps_car_02_cat': 3,\n",
       " 'ps_car_03_cat': 3,\n",
       " 'ps_car_04_cat': 10,\n",
       " 'ps_car_05_cat': 3,\n",
       " 'ps_car_06_cat': 18,\n",
       " 'ps_car_07_cat': 3,\n",
       " 'ps_car_09_cat': 6,\n",
       " 'ps_car_10_cat': 3,\n",
       " 'ps_car_11_cat': 104}"
      ]
     },
     "execution_count": 13,
     "metadata": {},
     "output_type": "execute_result"
    }
   ],
   "source": [
    "cat_sz"
   ]
  },
  {
   "cell_type": "code",
   "execution_count": 14,
   "metadata": {
    "collapsed": true
   },
   "outputs": [],
   "source": [
    "emb_szs = {c:(cat_sz[c], min(50, (cat_sz[c]+1)//2)) for c in cat_sz}"
   ]
  },
  {
   "cell_type": "code",
   "execution_count": 15,
   "metadata": {
    "collapsed": true
   },
   "outputs": [],
   "source": [
    "emb_szs_items = [d for d in emb_szs.values()]"
   ]
  },
  {
   "cell_type": "code",
   "execution_count": 16,
   "metadata": {},
   "outputs": [
    {
     "data": {
      "text/plain": [
       "{'ps_ind_02_cat': (5, 3),\n",
       " 'ps_ind_04_cat': (3, 2),\n",
       " 'ps_ind_05_cat': (8, 4),\n",
       " 'ps_car_01_cat': (13, 7),\n",
       " 'ps_car_02_cat': (3, 2),\n",
       " 'ps_car_03_cat': (3, 2),\n",
       " 'ps_car_04_cat': (10, 5),\n",
       " 'ps_car_05_cat': (3, 2),\n",
       " 'ps_car_06_cat': (18, 9),\n",
       " 'ps_car_07_cat': (3, 2),\n",
       " 'ps_car_09_cat': (6, 3),\n",
       " 'ps_car_10_cat': (3, 2),\n",
       " 'ps_car_11_cat': (104, 50)}"
      ]
     },
     "execution_count": 16,
     "metadata": {},
     "output_type": "execute_result"
    }
   ],
   "source": [
    "emb_szs"
   ]
  },
  {
   "cell_type": "code",
   "execution_count": 17,
   "metadata": {
    "collapsed": true
   },
   "outputs": [],
   "source": [
    "def build_embedding_network_condensed():\n",
    "    \n",
    "    inputs = []\n",
    "    embeddings = []\n",
    "    \n",
    "    for i in emb_szs.keys():\n",
    "        input = Input(shape=(1,))\n",
    "        x,y = emb_szs[i]\n",
    "        embedding = Embedding(x, y, input_length=1)(input)\n",
    "        embedding = Reshape(target_shape=(y,),name=str(i)+'_Embedding')(embedding)\n",
    "        inputs.append(input)\n",
    "        embeddings.append(embedding)\n",
    "    \n",
    "    input_numeric = Input(shape=(24,))\n",
    "    embedding_numeric = Dense(16)(input_numeric) \n",
    "    inputs.append(input_numeric)\n",
    "    embeddings.append(embedding_numeric)\n",
    "\n",
    "    x = Concatenate(name='Concatenate_Embedding')(embeddings)\n",
    "    x = Dense(80, activation='relu')(x)\n",
    "    x = Dropout(.35)(x)\n",
    "    x = Dense(20, activation='relu')(x)\n",
    "    x = Dropout(.15)(x)\n",
    "    x = Dense(10, activation='relu')(x)\n",
    "    x = Dropout(.15)(x)\n",
    "    output = Dense(1, activation='sigmoid')(x)\n",
    "    \n",
    "    model = Model(inputs, output)\n",
    "    \n",
    "    #print (\"Model Summary\\n\".format(model.summary()))\n",
    "    model.compile(loss='binary_crossentropy', optimizer='adam')\n",
    "    \n",
    "    return model"
   ]
  },
  {
   "cell_type": "code",
   "execution_count": 18,
   "metadata": {
    "collapsed": true
   },
   "outputs": [],
   "source": [
    "#converting data to list format to match the network structure\n",
    "def preproc(X_train, X_val, X_test):\n",
    "\n",
    "    input_list_train = []\n",
    "    input_list_val = []\n",
    "    input_list_test = []\n",
    "    \n",
    "    #the cols to be embedded: rescaling to range [0, # values)\n",
    "    for c in embed_cols:\n",
    "        raw_vals = np.unique(X_train[c])\n",
    "        val_map = {}\n",
    "        for i in range(len(raw_vals)):\n",
    "            val_map[raw_vals[i]] = i       \n",
    "        input_list_train.append(X_train[c].map(val_map).values)\n",
    "        input_list_val.append(X_val[c].map(val_map).fillna(0).values)\n",
    "        input_list_test.append(X_test[c].map(val_map).fillna(0).values)\n",
    "     \n",
    "    #the rest of the columns\n",
    "    other_cols = [c for c in X_train.columns if (not c in embed_cols)]\n",
    "    input_list_train.append(X_train[other_cols].values)\n",
    "    input_list_val.append(X_val[other_cols].values)\n",
    "    input_list_test.append(X_test[other_cols].values)\n",
    "    \n",
    "#     print ('\\ninput_list_train:{}'.format(input_list_train))\n",
    "#     print ('\\ninput_list_val:{}'.format(input_list_val))\n",
    "#     print ('\\ninput_list_test:{}'.format(input_list_test))\n",
    "    \n",
    "    return input_list_train, input_list_val, input_list_test"
   ]
  },
  {
   "cell_type": "code",
   "execution_count": 19,
   "metadata": {
    "collapsed": true
   },
   "outputs": [],
   "source": [
    "#gini scoring function from kernel at: \n",
    "#https://www.kaggle.com/tezdhar/faster-gini-calculation\n",
    "def ginic(actual, pred):\n",
    "    n = len(actual)\n",
    "    a_s = actual[np.argsort(pred)]\n",
    "    a_c = a_s.cumsum()\n",
    "    giniSum = a_c.sum() / a_c[-1] - (n + 1) / 2.0\n",
    "    return giniSum / n"
   ]
  },
  {
   "cell_type": "code",
   "execution_count": 20,
   "metadata": {
    "collapsed": true
   },
   "outputs": [],
   "source": [
    "def gini_normalizedc(a, p):\n",
    "    return ginic(a, p) / ginic(a, a)"
   ]
  },
  {
   "cell_type": "code",
   "execution_count": 21,
   "metadata": {
    "collapsed": true
   },
   "outputs": [],
   "source": [
    "#network training\n",
    "K = 10\n",
    "runs_per_fold = 5\n",
    "n_epochs = 15\n",
    "\n",
    "cv_ginis = []\n",
    "full_val_preds = np.zeros(np.shape(X_train)[0])\n",
    "y_preds = np.zeros((np.shape(X_test)[0],K))\n",
    "\n",
    "kfold = StratifiedKFold(n_splits = K, \n",
    "                            random_state = 231, \n",
    "                            shuffle = True)    "
   ]
  },
  {
   "cell_type": "code",
   "execution_count": 22,
   "metadata": {
    "scrolled": false
   },
   "outputs": [
    {
     "name": "stdout",
     "output_type": "stream",
     "text": [
      "\n",
      "Fold 0 prediction cv gini: 0.28772\n",
      "\n",
      "\n",
      "Fold 1 prediction cv gini: 0.26847\n",
      "\n",
      "\n",
      "Fold 2 prediction cv gini: 0.25056\n",
      "\n",
      "\n",
      "Fold 3 prediction cv gini: 0.28482\n",
      "\n",
      "\n",
      "Fold 4 prediction cv gini: 0.28610\n",
      "\n",
      "\n",
      "Fold 5 prediction cv gini: 0.26206\n",
      "\n",
      "\n",
      "Fold 6 prediction cv gini: 0.27961\n",
      "\n",
      "\n",
      "Fold 7 prediction cv gini: 0.28448\n",
      "\n",
      "\n",
      "Fold 8 prediction cv gini: 0.26663\n",
      "\n",
      "\n",
      "Fold 9 prediction cv gini: 0.28184\n",
      "\n",
      "__________________________________________________________________________________________________\n",
      "Layer (type)                    Output Shape         Param #     Connected to                     \n",
      "==================================================================================================\n",
      "input_687 (InputLayer)          (None, 1)            0                                            \n",
      "__________________________________________________________________________________________________\n",
      "input_688 (InputLayer)          (None, 1)            0                                            \n",
      "__________________________________________________________________________________________________\n",
      "input_689 (InputLayer)          (None, 1)            0                                            \n",
      "__________________________________________________________________________________________________\n",
      "input_690 (InputLayer)          (None, 1)            0                                            \n",
      "__________________________________________________________________________________________________\n",
      "input_691 (InputLayer)          (None, 1)            0                                            \n",
      "__________________________________________________________________________________________________\n",
      "input_692 (InputLayer)          (None, 1)            0                                            \n",
      "__________________________________________________________________________________________________\n",
      "input_693 (InputLayer)          (None, 1)            0                                            \n",
      "__________________________________________________________________________________________________\n",
      "input_694 (InputLayer)          (None, 1)            0                                            \n",
      "__________________________________________________________________________________________________\n",
      "input_695 (InputLayer)          (None, 1)            0                                            \n",
      "__________________________________________________________________________________________________\n",
      "input_696 (InputLayer)          (None, 1)            0                                            \n",
      "__________________________________________________________________________________________________\n",
      "input_697 (InputLayer)          (None, 1)            0                                            \n",
      "__________________________________________________________________________________________________\n",
      "input_698 (InputLayer)          (None, 1)            0                                            \n",
      "__________________________________________________________________________________________________\n",
      "input_699 (InputLayer)          (None, 1)            0                                            \n",
      "__________________________________________________________________________________________________\n",
      "embedding_638 (Embedding)       (None, 1, 3)         15          input_687[0][0]                  \n",
      "__________________________________________________________________________________________________\n",
      "embedding_639 (Embedding)       (None, 1, 2)         6           input_688[0][0]                  \n",
      "__________________________________________________________________________________________________\n",
      "embedding_640 (Embedding)       (None, 1, 4)         32          input_689[0][0]                  \n",
      "__________________________________________________________________________________________________\n",
      "embedding_641 (Embedding)       (None, 1, 7)         91          input_690[0][0]                  \n",
      "__________________________________________________________________________________________________\n",
      "embedding_642 (Embedding)       (None, 1, 2)         6           input_691[0][0]                  \n",
      "__________________________________________________________________________________________________\n",
      "embedding_643 (Embedding)       (None, 1, 2)         6           input_692[0][0]                  \n",
      "__________________________________________________________________________________________________\n",
      "embedding_644 (Embedding)       (None, 1, 5)         50          input_693[0][0]                  \n",
      "__________________________________________________________________________________________________\n",
      "embedding_645 (Embedding)       (None, 1, 2)         6           input_694[0][0]                  \n",
      "__________________________________________________________________________________________________\n",
      "embedding_646 (Embedding)       (None, 1, 9)         162         input_695[0][0]                  \n",
      "__________________________________________________________________________________________________\n",
      "embedding_647 (Embedding)       (None, 1, 2)         6           input_696[0][0]                  \n",
      "__________________________________________________________________________________________________\n",
      "embedding_648 (Embedding)       (None, 1, 3)         18          input_697[0][0]                  \n",
      "__________________________________________________________________________________________________\n",
      "embedding_649 (Embedding)       (None, 1, 2)         6           input_698[0][0]                  \n",
      "__________________________________________________________________________________________________\n",
      "embedding_650 (Embedding)       (None, 1, 50)        5200        input_699[0][0]                  \n",
      "__________________________________________________________________________________________________\n",
      "input_700 (InputLayer)          (None, 24)           0                                            \n",
      "__________________________________________________________________________________________________\n",
      "ps_ind_02_cat_Embedding (Reshap (None, 3)            0           embedding_638[0][0]              \n",
      "__________________________________________________________________________________________________\n",
      "ps_ind_04_cat_Embedding (Reshap (None, 2)            0           embedding_639[0][0]              \n",
      "__________________________________________________________________________________________________\n",
      "ps_ind_05_cat_Embedding (Reshap (None, 4)            0           embedding_640[0][0]              \n",
      "__________________________________________________________________________________________________\n",
      "ps_car_01_cat_Embedding (Reshap (None, 7)            0           embedding_641[0][0]              \n",
      "__________________________________________________________________________________________________\n",
      "ps_car_02_cat_Embedding (Reshap (None, 2)            0           embedding_642[0][0]              \n",
      "__________________________________________________________________________________________________\n",
      "ps_car_03_cat_Embedding (Reshap (None, 2)            0           embedding_643[0][0]              \n",
      "__________________________________________________________________________________________________\n",
      "ps_car_04_cat_Embedding (Reshap (None, 5)            0           embedding_644[0][0]              \n",
      "__________________________________________________________________________________________________\n",
      "ps_car_05_cat_Embedding (Reshap (None, 2)            0           embedding_645[0][0]              \n",
      "__________________________________________________________________________________________________\n",
      "ps_car_06_cat_Embedding (Reshap (None, 9)            0           embedding_646[0][0]              \n",
      "__________________________________________________________________________________________________\n",
      "ps_car_07_cat_Embedding (Reshap (None, 2)            0           embedding_647[0][0]              \n",
      "__________________________________________________________________________________________________\n",
      "ps_car_09_cat_Embedding (Reshap (None, 3)            0           embedding_648[0][0]              \n",
      "__________________________________________________________________________________________________\n",
      "ps_car_10_cat_Embedding (Reshap (None, 2)            0           embedding_649[0][0]              \n",
      "__________________________________________________________________________________________________\n",
      "ps_car_11_cat_Embedding (Reshap (None, 50)           0           embedding_650[0][0]              \n",
      "__________________________________________________________________________________________________\n",
      "dense_246 (Dense)               (None, 16)           400         input_700[0][0]                  \n",
      "__________________________________________________________________________________________________\n",
      "Concatenate_Embedding (Concaten (None, 109)          0           ps_ind_02_cat_Embedding[0][0]    \n",
      "                                                                 ps_ind_04_cat_Embedding[0][0]    \n",
      "                                                                 ps_ind_05_cat_Embedding[0][0]    \n",
      "                                                                 ps_car_01_cat_Embedding[0][0]    \n",
      "                                                                 ps_car_02_cat_Embedding[0][0]    \n",
      "                                                                 ps_car_03_cat_Embedding[0][0]    \n",
      "                                                                 ps_car_04_cat_Embedding[0][0]    \n",
      "                                                                 ps_car_05_cat_Embedding[0][0]    \n",
      "                                                                 ps_car_06_cat_Embedding[0][0]    \n",
      "                                                                 ps_car_07_cat_Embedding[0][0]    \n",
      "                                                                 ps_car_09_cat_Embedding[0][0]    \n",
      "                                                                 ps_car_10_cat_Embedding[0][0]    \n",
      "                                                                 ps_car_11_cat_Embedding[0][0]    \n",
      "                                                                 dense_246[0][0]                  \n",
      "__________________________________________________________________________________________________\n",
      "dense_247 (Dense)               (None, 80)           8800        Concatenate_Embedding[0][0]      \n",
      "__________________________________________________________________________________________________\n",
      "dropout_148 (Dropout)           (None, 80)           0           dense_247[0][0]                  \n",
      "__________________________________________________________________________________________________\n",
      "dense_248 (Dense)               (None, 20)           1620        dropout_148[0][0]                \n",
      "__________________________________________________________________________________________________\n",
      "dropout_149 (Dropout)           (None, 20)           0           dense_248[0][0]                  \n",
      "__________________________________________________________________________________________________\n",
      "dense_249 (Dense)               (None, 10)           210         dropout_149[0][0]                \n",
      "__________________________________________________________________________________________________\n",
      "dropout_150 (Dropout)           (None, 10)           0           dense_249[0][0]                  \n",
      "__________________________________________________________________________________________________\n",
      "dense_250 (Dense)               (None, 1)            11          dropout_150[0][0]                \n",
      "==================================================================================================\n",
      "Total params: 16,645\n",
      "Trainable params: 16,645\n",
      "Non-trainable params: 0\n",
      "__________________________________________________________________________________________________\n",
      "Model Summary for the final fold\n",
      "\n",
      "Mean out of fold gini: 0.27523\n",
      "Full validation gini: 0.27496\n"
     ]
    }
   ],
   "source": [
    "for i, (f_ind, outf_ind) in enumerate(kfold.split(X_train, y_train)):\n",
    "\n",
    "    X_train_f, X_val_f = X_train.loc[f_ind].copy(), X_train.loc[outf_ind].copy()\n",
    "    y_train_f, y_val_f = y_train[f_ind], y_train[outf_ind]\n",
    "    \n",
    "    X_test_f = X_test.copy()\n",
    "    \n",
    "    #upsampling adapted from kernel: \n",
    "    #https://www.kaggle.com/ogrellier/xgb-classifier-upsampling-lb-0-283\n",
    "    pos = (pd.Series(y_train_f == 1))\n",
    "    \n",
    "    # Add positive examples\n",
    "    X_train_f = pd.concat([X_train_f, X_train_f.loc[pos]], axis=0)\n",
    "    y_train_f = pd.concat([y_train_f, y_train_f.loc[pos]], axis=0)\n",
    "    \n",
    "    # Shuffle data\n",
    "    idx = np.arange(len(X_train_f))\n",
    "    np.random.shuffle(idx)\n",
    "    X_train_f = X_train_f.iloc[idx]\n",
    "    y_train_f = y_train_f.iloc[idx]\n",
    "    \n",
    "    #preprocessing\n",
    "    proc_X_train_f, proc_X_val_f, proc_X_test_f = preproc(X_train_f, X_val_f, X_test_f)\n",
    "    \n",
    "    #track oof prediction for cv scores\n",
    "    val_preds = 0\n",
    "    \n",
    "    for j in range(runs_per_fold):\n",
    "    \n",
    "        NN = build_embedding_network_condensed()\n",
    "        \n",
    "        NN.fit(proc_X_train_f, y_train_f.values, epochs=n_epochs, batch_size=4096, verbose=0)\n",
    "   \n",
    "        val_preds += NN.predict(proc_X_val_f)[:,0] / runs_per_fold\n",
    "        y_preds[:,i] += NN.predict(proc_X_test_f)[:,0] / runs_per_fold\n",
    "        \n",
    "    full_val_preds[outf_ind] += val_preds\n",
    "        \n",
    "    cv_gini = gini_normalizedc(y_val_f.values, val_preds)\n",
    "    cv_ginis.append(cv_gini)\n",
    "    print ('\\nFold %i prediction cv gini: %.5f\\n' %(i,cv_gini))\n",
    "    \n",
    "print (\"Model Summary for the final fold\\n\".format(NN.summary()))\n",
    "print('Mean out of fold gini: %.5f' % np.mean(cv_ginis))\n",
    "print('Full validation gini: %.5f' % gini_normalizedc(y_train.values, full_val_preds))\n",
    "\n",
    "y_pred_final = np.mean(y_preds, axis=1)\n",
    "\n",
    "df_sub = pd.DataFrame({'id' : df_test.id, \n",
    "                       'target' : y_pred_final},\n",
    "                       columns = ['id','target'])\n",
    "df_sub.to_csv('NN_EntityEmbed_10fold-sub.csv', index=False)\n",
    "\n",
    "pd.DataFrame(full_val_preds).to_csv('NN_EntityEmbed_10fold-val_preds.csv',index=False)"
   ]
  },
  {
   "cell_type": "code",
   "execution_count": 23,
   "metadata": {
    "collapsed": true
   },
   "outputs": [],
   "source": [
    "embedded_features_model = Model(inputs=NN.input, outputs=NN.get_layer('Concatenate_Embedding').output) \n",
    "embedded_features_train = embedded_features_model.predict(proc_X_train_f)[:,:-13]"
   ]
  },
  {
   "cell_type": "code",
   "execution_count": 24,
   "metadata": {
    "scrolled": false
   },
   "outputs": [
    {
     "data": {
      "text/plain": [
       "(555217, 96)"
      ]
     },
     "execution_count": 24,
     "metadata": {},
     "output_type": "execute_result"
    }
   ],
   "source": [
    "embedded_features_train.shape"
   ]
  },
  {
   "cell_type": "code",
   "execution_count": 25,
   "metadata": {
    "scrolled": false
   },
   "outputs": [
    {
     "data": {
      "text/plain": [
       "array([[-0.17373,  0.09946,  0.10456, -0.08657, -0.25705, -0.12835, -0.1625 ,  0.0929 ,  0.16287,  0.0916 ,\n",
       "        -0.07949, -0.03925, -0.07207, -0.09129, -0.04177,  0.00712,  0.26455,  0.07682,  0.17709, -0.12988,\n",
       "        ..., -0.02699,  0.05418,  0.1136 , -0.01724,  0.0436 , -0.07899, -0.10464, -0.01904, -0.07723,\n",
       "         0.03296, -0.09001, -0.13234, -0.09115, -0.10347, -0.08182, -0.00458,  0.03011, -1.40777,  0.26317,\n",
       "         2.46061],\n",
       "       [-0.17373,  0.09946,  0.10456,  0.11014,  0.12718, -0.12835, -0.1625 ,  0.0929 ,  0.16287,  0.0916 ,\n",
       "        -0.07949, -0.03925, -0.07207, -0.09129, -0.04177,  0.00712, -0.10368, -0.0181 ,  0.17709, -0.12988,\n",
       "        ..., -0.09136,  0.02739, -0.04026, -0.07989, -0.01876,  0.03388,  0.10495, -0.03836, -0.05234,\n",
       "        -0.06513, -0.0303 , -0.05424,  0.01626,  0.03762,  0.04872,  0.05526, -0.00815, -1.48212,  0.35387,\n",
       "         2.57248],\n",
       "       [ 0.27252, -0.13356, -0.11847, -0.08657, -0.25705, -0.12835, -0.1625 ,  0.0929 ,  0.16287,  0.0916 ,\n",
       "        -0.07949, -0.03925, -0.07207, -0.09129, -0.04177,  0.00712, -0.10368, -0.0181 ,  0.17709, -0.12988,\n",
       "        ..., -0.02699,  0.05418,  0.1136 , -0.01724,  0.0436 , -0.07899, -0.10464, -0.01904, -0.07723,\n",
       "         0.03296, -0.09001, -0.13234, -0.09115, -0.10347, -0.08182, -0.00458,  0.03011,  0.0437 , -0.44449,\n",
       "         2.06166],\n",
       "       [ 0.27252, -0.13356, -0.11847, -0.08657, -0.25705, -0.12835, -0.1625 ,  0.0929 ,  0.16287,  0.0916 ,\n",
       "        -0.07949, -0.03925, -0.07207, -0.09129, -0.04177,  0.00712, -0.10368, -0.0181 , -0.10353,  0.09328,\n",
       "        ...,  0.03835,  0.08188, -0.0753 , -0.03946, -0.01519,  0.08299, -0.07588,  0.01842, -0.00351,\n",
       "        -0.08727, -0.00254, -0.11232,  0.01434,  0.10626, -0.10316,  0.01275, -0.15073, -0.82673,  0.02913,\n",
       "         2.47123],\n",
       "       [-0.17373,  0.09946,  0.10456,  0.11014,  0.12718, -0.12835, -0.1625 ,  0.0929 ,  0.16287,  0.0916 ,\n",
       "        -0.07949, -0.03925, -0.07207, -0.09129, -0.04177,  0.00712,  0.26455,  0.07682,  0.17709, -0.12988,\n",
       "        ...,  0.08349,  0.11418,  0.02772,  0.00819, -0.02275,  0.03354, -0.03075, -0.01648,  0.07861,\n",
       "         0.06401,  0.09558, -0.01568,  0.06277, -0.01861,  0.00414,  0.0506 , -0.05795, -1.7327 , -1.74079,\n",
       "         2.32221],\n",
       "       [-0.17373,  0.09946,  0.10456, -0.08657, -0.25705, -0.12835, -0.1625 ,  0.0929 ,  0.16287, -0.00594,\n",
       "         0.08063, -0.11355,  0.08472, -0.0853 ,  0.05811, -0.11689, -0.10368, -0.0181 , -0.10353,  0.09328,\n",
       "        ..., -0.01897, -0.03709,  0.06016,  0.08701, -0.10335,  0.02532, -0.00682,  0.15239, -0.04313,\n",
       "        -0.0163 , -0.01253, -0.00842,  0.12199,  0.12902,  0.01353, -0.09981, -0.07627, -2.28378,  0.60372,\n",
       "         1.5634 ],\n",
       "       [-0.17373,  0.09946,  0.10456, -0.08657, -0.25705, -0.12835, -0.1625 ,  0.0929 ,  0.16287,  0.03612,\n",
       "        -0.03703,  0.12042, -0.1568 ,  0.08524, -0.07264,  0.15222, -0.10368, -0.0181 ,  0.17709, -0.12988,\n",
       "        ...,  0.00668,  0.0411 , -0.11828,  0.07651,  0.01316,  0.02307,  0.0336 , -0.02688,  0.00712,\n",
       "        -0.08224,  0.05898,  0.03797, -0.01084,  0.01608,  0.04549,  0.10406,  0.01169, -0.47331, -1.20147,\n",
       "         2.16694],\n",
       "       [-0.17373,  0.09946,  0.10456,  0.11014,  0.12718, -0.12835, -0.1625 ,  0.0929 ,  0.16287,  0.0916 ,\n",
       "        -0.07949, -0.03925, -0.07207, -0.09129, -0.04177,  0.00712,  0.26455,  0.07682,  0.17709, -0.12988,\n",
       "        ...,  0.0172 ,  0.00427,  0.09877, -0.08496, -0.02296,  0.11543, -0.19894, -0.02792, -0.01929,\n",
       "         0.03187, -0.09307,  0.04205, -0.14436,  0.00442, -0.19497, -0.00403, -0.0595 , -2.6459 ,  0.2611 ,\n",
       "         3.11577],\n",
       "       [-0.17373,  0.09946,  0.10456,  0.11014,  0.12718, -0.12835, -0.1625 ,  0.0929 ,  0.16287,  0.16879,\n",
       "         0.03053,  0.14675, -0.0179 , -0.02318, -0.14803,  0.04027, -0.10368, -0.0181 , -0.10353,  0.09328,\n",
       "        ...,  0.16135,  0.18217, -0.03474, -0.19162, -0.15142,  0.06708,  0.06056, -0.0446 ,  0.05429,\n",
       "        -0.00215,  0.02117,  0.02899,  0.08442,  0.04628,  0.05735,  0.16919, -0.01825, -2.4046 , -1.98685,\n",
       "         2.66958],\n",
       "       [-0.17373,  0.09946,  0.10456,  0.11014,  0.12718, -0.12835, -0.1625 ,  0.0929 ,  0.16287,  0.00401,\n",
       "         0.0272 ,  0.0868 , -0.01764,  0.09353, -0.09084,  0.08205, -0.10368, -0.0181 ,  0.12219, -0.00807,\n",
       "        ...,  0.03443,  0.03268,  0.04038, -0.12305, -0.09086, -0.01547,  0.00741, -0.01165, -0.00525,\n",
       "        -0.03951,  0.06989, -0.0373 ,  0.16514,  0.04113, -0.03911,  0.00674, -0.1314 , -2.19877, -0.21942,\n",
       "         2.76815],\n",
       "       [-0.17373,  0.09946,  0.10456, -0.08657, -0.25705, -0.12835, -0.1625 ,  0.0929 ,  0.16287,  0.0916 ,\n",
       "        -0.07949, -0.03925, -0.07207, -0.09129, -0.04177,  0.00712, -0.10368, -0.0181 ,  0.12219, -0.00807,\n",
       "        ...,  0.18721,  0.17375, -0.10994,  0.02606, -0.02578,  0.09436, -0.03597, -0.00695,  0.08434,\n",
       "         0.10221,  0.09927,  0.12299,  0.02359, -0.02797,  0.02766,  0.13088, -0.16418, -1.73758, -0.71426,\n",
       "         3.26776],\n",
       "       [-0.17373,  0.09946,  0.10456,  0.11014,  0.12718, -0.12835, -0.1625 ,  0.0929 ,  0.16287,  0.16879,\n",
       "         0.03053,  0.14675, -0.0179 , -0.02318, -0.14803,  0.04027, -0.10368, -0.0181 , -0.10353,  0.09328,\n",
       "        ...,  0.10076,  0.12264,  0.02606, -0.08306,  0.07577,  0.02944, -0.01095, -0.07938, -0.01383,\n",
       "        -0.00152, -0.03018,  0.02219, -0.07398,  0.06283,  0.03052,  0.00882, -0.12276, -2.68593, -0.65702,\n",
       "         1.34292],\n",
       "       [-0.17373,  0.09946,  0.10456,  0.11014,  0.12718, -0.12835, -0.1625 ,  0.0929 ,  0.16287,  0.03612,\n",
       "        -0.03703,  0.12042, -0.1568 ,  0.08524, -0.07264,  0.15222, -0.10368, -0.0181 , -0.10353,  0.09328,\n",
       "        ..., -0.04716,  0.09512,  0.02439, -0.0464 , -0.05284,  0.05806, -0.01185,  0.03952,  0.0694 ,\n",
       "         0.08831, -0.0347 , -0.02956, -0.02376,  0.01199, -0.02538, -0.0368 ,  0.01415, -1.27202, -1.64463,\n",
       "         2.34821],\n",
       "       [-0.17373,  0.09946,  0.10456, -0.08657, -0.25705, -0.12835, -0.1625 ,  0.0929 ,  0.16287, -0.04618,\n",
       "         0.0632 ,  0.01853,  0.04516, -0.06473, -0.0182 , -0.09352, -0.10368, -0.0181 , -0.10353,  0.09328,\n",
       "        ...,  0.06585,  0.02993, -0.07491,  0.08622, -0.04358,  0.07515,  0.06423,  0.07609,  0.07202,\n",
       "        -0.01581,  0.09828,  0.0446 ,  0.00242,  0.06103,  0.09516,  0.02772, -0.00542, -2.9287 ,  0.72411,\n",
       "         3.11487],\n",
       "       [-0.17373,  0.09946,  0.10456, -0.08657, -0.25705, -0.12835, -0.1625 ,  0.0929 ,  0.16287,  0.03612,\n",
       "        -0.03703,  0.12042, -0.1568 ,  0.08524, -0.07264,  0.15222, -0.10368, -0.0181 , -0.10353,  0.09328,\n",
       "        ..., -0.09136,  0.02739, -0.04026, -0.07989, -0.01876,  0.03388,  0.10495, -0.03836, -0.05234,\n",
       "        -0.06513, -0.0303 , -0.05424,  0.01626,  0.03762,  0.04872,  0.05526, -0.00815, -0.73959, -1.42482,\n",
       "         3.15002],\n",
       "       [-0.17373,  0.09946,  0.10456,  0.11014,  0.12718, -0.12835, -0.1625 ,  0.0929 ,  0.16287,  0.03612,\n",
       "        -0.03703,  0.12042, -0.1568 ,  0.08524, -0.07264,  0.15222, -0.10368, -0.0181 , -0.10353,  0.09328,\n",
       "        ..., -0.04716,  0.09512,  0.02439, -0.0464 , -0.05284,  0.05806, -0.01185,  0.03952,  0.0694 ,\n",
       "         0.08831, -0.0347 , -0.02956, -0.02376,  0.01199, -0.02538, -0.0368 ,  0.01415, -0.30398, -0.51271,\n",
       "         1.68048],\n",
       "       [ 0.27252, -0.13356, -0.11847, -0.08657, -0.25705, -0.12835, -0.1625 ,  0.0929 ,  0.16287,  0.00401,\n",
       "         0.0272 ,  0.0868 , -0.01764,  0.09353, -0.09084,  0.08205, -0.10368, -0.0181 ,  0.17709, -0.12988,\n",
       "        ...,  0.0402 ,  0.02925,  0.01685,  0.12474,  0.0753 ,  0.08045,  0.02566,  0.07642,  0.00773,\n",
       "        -0.03122,  0.04975,  0.0731 ,  0.00862,  0.00784, -0.06333,  0.02206,  0.08234, -1.07995,  0.44909,\n",
       "         2.43943],\n",
       "       [-0.17373,  0.09946,  0.10456,  0.11014,  0.12718, -0.12835, -0.1625 ,  0.0929 ,  0.16287,  0.0916 ,\n",
       "        -0.07949, -0.03925, -0.07207, -0.09129, -0.04177,  0.00712, -0.10368, -0.0181 , -0.10353,  0.09328,\n",
       "        ...,  0.04283,  0.03111, -0.06864,  0.03369, -0.10794,  0.01352,  0.05296,  0.09459, -0.00359,\n",
       "        -0.05444, -0.00707, -0.04017, -0.03604,  0.06932,  0.06503,  0.06752, -0.0573 , -0.63777, -0.33122,\n",
       "         1.53855],\n",
       "       [-0.17373,  0.09946,  0.10456,  0.11014,  0.12718,  0.27073,  0.29522, -0.12623, -0.31474,  0.16879,\n",
       "         0.03053,  0.14675, -0.0179 , -0.02318, -0.14803,  0.04027, -0.10368, -0.0181 , -0.10353,  0.09328,\n",
       "        ...,  0.10076,  0.12264,  0.02606, -0.08306,  0.07577,  0.02944, -0.01095, -0.07938, -0.01383,\n",
       "        -0.00152, -0.03018,  0.02219, -0.07398,  0.06283,  0.03052,  0.00882, -0.12276, -1.53255, -1.49446,\n",
       "         1.82223],\n",
       "       [ 0.27252, -0.13356, -0.11847,  0.11014,  0.12718, -0.12835, -0.1625 ,  0.0929 ,  0.16287,  0.0916 ,\n",
       "        -0.07949, -0.03925, -0.07207, -0.09129, -0.04177,  0.00712, -0.10368, -0.0181 ,  0.17709, -0.12988,\n",
       "        ...,  0.10076,  0.12264,  0.02606, -0.08306,  0.07577,  0.02944, -0.01095, -0.07938, -0.01383,\n",
       "        -0.00152, -0.03018,  0.02219, -0.07398,  0.06283,  0.03052,  0.00882, -0.12276,  0.25916,  0.1255 ,\n",
       "         3.99622],\n",
       "       ...,\n",
       "       [ 0.27252, -0.13356, -0.11847,  0.11014,  0.12718, -0.12835, -0.1625 ,  0.0929 ,  0.16287,  0.0916 ,\n",
       "        -0.07949, -0.03925, -0.07207, -0.09129, -0.04177,  0.00712, -0.10368, -0.0181 , -0.10353,  0.09328,\n",
       "        ...,  0.02111,  0.06982,  0.0072 , -0.03335, -0.07509,  0.02651,  0.01853,  0.07374,  0.02717,\n",
       "         0.06889, -0.04875, -0.00825, -0.00792, -0.00986,  0.02354,  0.03017, -0.03526, -0.48502, -0.13187,\n",
       "         3.04805],\n",
       "       [-0.17373,  0.09946,  0.10456,  0.11014,  0.12718, -0.12835, -0.1625 ,  0.0929 ,  0.16287,  0.16879,\n",
       "         0.03053,  0.14675, -0.0179 , -0.02318, -0.14803,  0.04027, -0.10368, -0.0181 , -0.10353,  0.09328,\n",
       "        ...,  0.0178 ,  0.04171,  0.03199, -0.06101,  0.08401,  0.00105, -0.12264, -0.03363, -0.02532,\n",
       "        -0.05137, -0.08191, -0.0332 , -0.13066, -0.03879, -0.06538, -0.07121,  0.05696, -1.62348, -0.97268,\n",
       "         2.30503],\n",
       "       [ 0.27252, -0.13356, -0.11847, -0.08657, -0.25705, -0.12835, -0.1625 ,  0.0929 ,  0.16287,  0.03612,\n",
       "        -0.03703,  0.12042, -0.1568 ,  0.08524, -0.07264,  0.15222, -0.10368, -0.0181 , -0.10353,  0.09328,\n",
       "        ..., -0.01897, -0.03709,  0.06016,  0.08701, -0.10335,  0.02532, -0.00682,  0.15239, -0.04313,\n",
       "        -0.0163 , -0.01253, -0.00842,  0.12199,  0.12902,  0.01353, -0.09981, -0.07627, -0.47631,  0.21238,\n",
       "         1.70842],\n",
       "       [-0.17373,  0.09946,  0.10456, -0.08657, -0.25705, -0.12835, -0.1625 ,  0.0929 ,  0.16287, -0.00594,\n",
       "         0.08063, -0.11355,  0.08472, -0.0853 ,  0.05811, -0.11689, -0.10368, -0.0181 , -0.10353,  0.09328,\n",
       "        ...,  0.03835,  0.08188, -0.0753 , -0.03946, -0.01519,  0.08299, -0.07588,  0.01842, -0.00351,\n",
       "        -0.08727, -0.00254, -0.11232,  0.01434,  0.10626, -0.10316,  0.01275, -0.15073, -1.36868,  0.08678,\n",
       "         3.57665],\n",
       "       [ 0.27252, -0.13356, -0.11847,  0.11014,  0.12718, -0.12835, -0.1625 ,  0.0929 ,  0.16287,  0.03612,\n",
       "        -0.03703,  0.12042, -0.1568 ,  0.08524, -0.07264,  0.15222, -0.10368, -0.0181 , -0.10353,  0.09328,\n",
       "        ...,  0.159  , -0.13485, -0.06416,  0.04454, -0.04486,  0.03618, -0.00808, -0.02734,  0.09302,\n",
       "        -0.05954,  0.01977, -0.00397, -0.10475, -0.09993,  0.00437,  0.01375, -0.0527 , -0.56974,  0.38128,\n",
       "         2.10038],\n",
       "       [-0.17373,  0.09946,  0.10456,  0.11014,  0.12718, -0.12835, -0.1625 ,  0.0929 ,  0.16287,  0.03612,\n",
       "        -0.03703,  0.12042, -0.1568 ,  0.08524, -0.07264,  0.15222, -0.10368, -0.0181 , -0.10353,  0.09328,\n",
       "        ..., -0.03765,  0.05397,  0.01469,  0.03007, -0.10226, -0.05009,  0.05166,  0.03287,  0.02815,\n",
       "        -0.05866,  0.0178 ,  0.02539,  0.02983,  0.13859,  0.00843,  0.0519 ,  0.01546, -0.9482 , -1.04594,\n",
       "         2.40634],\n",
       "       [ 0.27252, -0.13356, -0.11847,  0.11014,  0.12718, -0.12835, -0.1625 ,  0.0929 ,  0.16287,  0.03612,\n",
       "        -0.03703,  0.12042, -0.1568 ,  0.08524, -0.07264,  0.15222, -0.10368, -0.0181 , -0.10353,  0.09328,\n",
       "        ...,  0.08349,  0.11418,  0.02772,  0.00819, -0.02275,  0.03354, -0.03075, -0.01648,  0.07861,\n",
       "         0.06401,  0.09558, -0.01568,  0.06277, -0.01861,  0.00414,  0.0506 , -0.05795, -0.889  , -0.90938,\n",
       "         2.54026],\n",
       "       [-0.17373,  0.09946,  0.10456,  0.11014,  0.12718, -0.12835, -0.1625 ,  0.0929 ,  0.16287,  0.03612,\n",
       "        -0.03703,  0.12042, -0.1568 ,  0.08524, -0.07264,  0.15222, -0.10368, -0.0181 , -0.10353,  0.09328,\n",
       "        ...,  0.05687,  0.05239,  0.00126, -0.08186,  0.01999,  0.05544,  0.14755, -0.1691 ,  0.10946,\n",
       "        -0.07785,  0.00398, -0.0068 , -0.00257,  0.11183,  0.20695, -0.01851, -0.06184, -0.09373,  0.25374,\n",
       "         1.77458],\n",
       "       [ 0.27252, -0.13356, -0.11847, -0.08657, -0.25705, -0.12835, -0.1625 ,  0.0929 ,  0.16287,  0.03612,\n",
       "        -0.03703,  0.12042, -0.1568 ,  0.08524, -0.07264,  0.15222, -0.10368, -0.0181 , -0.10353,  0.09328,\n",
       "        ..., -0.06355,  0.00436, -0.03578, -0.01308, -0.12945,  0.07892, -0.0843 , -0.05015,  0.08997,\n",
       "         0.05437,  0.02134,  0.01383, -0.00089, -0.02361,  0.02119,  0.01986,  0.02971, -1.73715,  0.35263,\n",
       "         3.30212],\n",
       "       [-0.17373,  0.09946,  0.10456, -0.08657, -0.25705, -0.12835, -0.1625 ,  0.0929 ,  0.16287,  0.0916 ,\n",
       "        -0.07949, -0.03925, -0.07207, -0.09129, -0.04177,  0.00712, -0.10368, -0.0181 , -0.10353,  0.09328,\n",
       "        ..., -0.03765,  0.05397,  0.01469,  0.03007, -0.10226, -0.05009,  0.05166,  0.03287,  0.02815,\n",
       "        -0.05866,  0.0178 ,  0.02539,  0.02983,  0.13859,  0.00843,  0.0519 ,  0.01546, -0.99002, -0.10457,\n",
       "         3.38625],\n",
       "       [-0.17373,  0.09946,  0.10456,  0.11014,  0.12718, -0.12835, -0.1625 ,  0.0929 ,  0.16287, -0.03556,\n",
       "         0.13876, -0.14737,  0.04528, -0.10859,  0.0886 , -0.07803, -0.10368, -0.0181 ,  0.17709, -0.12988,\n",
       "        ...,  0.03443,  0.03268,  0.04038, -0.12305, -0.09086, -0.01547,  0.00741, -0.01165, -0.00525,\n",
       "        -0.03951,  0.06989, -0.0373 ,  0.16514,  0.04113, -0.03911,  0.00674, -0.1314 , -1.85191,  1.08435,\n",
       "         1.70077],\n",
       "       [ 0.27252, -0.13356, -0.11847,  0.11014,  0.12718,  0.24417,  0.24887, -0.05469, -0.28379,  0.0916 ,\n",
       "        -0.07949, -0.03925, -0.07207, -0.09129, -0.04177,  0.00712, -0.10368, -0.0181 ,  0.12219, -0.00807,\n",
       "        ...,  0.02896,  0.00767,  0.03943, -0.04986, -0.08799, -0.03647, -0.00762, -0.02465, -0.09033,\n",
       "         0.0273 , -0.07444, -0.02703, -0.02873, -0.0633 ,  0.01164, -0.04846,  0.01531, -0.75957, -0.09825,\n",
       "         2.81619],\n",
       "       [-0.17373,  0.09946,  0.10456,  0.11014,  0.12718, -0.12835, -0.1625 ,  0.0929 ,  0.16287,  0.03612,\n",
       "        -0.03703,  0.12042, -0.1568 ,  0.08524, -0.07264,  0.15222, -0.10368, -0.0181 , -0.10353,  0.09328,\n",
       "        ...,  0.04283,  0.03111, -0.06864,  0.03369, -0.10794,  0.01352,  0.05296,  0.09459, -0.00359,\n",
       "        -0.05444, -0.00707, -0.04017, -0.03604,  0.06932,  0.06503,  0.06752, -0.0573 , -1.43434, -0.29096,\n",
       "         1.63761],\n",
       "       [ 0.27252, -0.13356, -0.11847, -0.08657, -0.25705, -0.12835, -0.1625 ,  0.0929 ,  0.16287,  0.03612,\n",
       "        -0.03703,  0.12042, -0.1568 ,  0.08524, -0.07264,  0.15222, -0.10368, -0.0181 , -0.10353,  0.09328,\n",
       "        ..., -0.09234,  0.00832,  0.12836,  0.04157,  0.08664, -0.09406, -0.10364,  0.00988, -0.14508,\n",
       "         0.17102, -0.10996,  0.01063,  0.0297 ,  0.03673, -0.07717, -0.02542,  0.19796, -1.02796,  0.26579,\n",
       "         3.41683],\n",
       "       [-0.17373,  0.09946,  0.10456, -0.08657, -0.25705, -0.12835, -0.1625 ,  0.0929 ,  0.16287,  0.16879,\n",
       "         0.03053,  0.14675, -0.0179 , -0.02318, -0.14803,  0.04027, -0.10368, -0.0181 , -0.10353,  0.09328,\n",
       "        ...,  0.05429, -0.01024, -0.0682 , -0.02138,  0.03926,  0.14207,  0.1262 , -0.11705,  0.08968,\n",
       "        -0.02648, -0.03879,  0.14855, -0.04355,  0.01659,  0.03943,  0.01096, -0.10937, -0.4432 , -0.89247,\n",
       "         1.5733 ],\n",
       "       [-0.17373,  0.09946,  0.10456, -0.08657, -0.25705, -0.12835, -0.1625 ,  0.0929 ,  0.16287,  0.00401,\n",
       "         0.0272 ,  0.0868 , -0.01764,  0.09353, -0.09084,  0.08205, -0.10368, -0.0181 ,  0.12219, -0.00807,\n",
       "        ..., -0.06355,  0.00436, -0.03578, -0.01308, -0.12945,  0.07892, -0.0843 , -0.05015,  0.08997,\n",
       "         0.05437,  0.02134,  0.01383, -0.00089, -0.02361,  0.02119,  0.01986,  0.02971, -0.51572, -1.41861,\n",
       "         2.01317],\n",
       "       [-0.17373,  0.09946,  0.10456, -0.08657, -0.25705, -0.12835, -0.1625 ,  0.0929 ,  0.16287, -0.00594,\n",
       "         0.08063, -0.11355,  0.08472, -0.0853 ,  0.05811, -0.11689, -0.10368, -0.0181 , -0.10353,  0.09328,\n",
       "        ...,  0.06467, -0.008  , -0.02443, -0.05261, -0.05487,  0.16925,  0.08435,  0.10488,  0.09259,\n",
       "        -0.15265,  0.09063,  0.1501 ,  0.12989, -0.01046, -0.14218,  0.12865, -0.04612, -1.71999, -1.40286,\n",
       "         2.15143],\n",
       "       [-0.17373,  0.09946,  0.10456, -0.08657, -0.25705, -0.12835, -0.1625 ,  0.0929 ,  0.16287,  0.00401,\n",
       "         0.0272 ,  0.0868 , -0.01764,  0.09353, -0.09084,  0.08205, -0.10368, -0.0181 ,  0.12219, -0.00807,\n",
       "        ...,  0.10076,  0.12264,  0.02606, -0.08306,  0.07577,  0.02944, -0.01095, -0.07938, -0.01383,\n",
       "        -0.00152, -0.03018,  0.02219, -0.07398,  0.06283,  0.03052,  0.00882, -0.12276, -0.89847, -1.60707,\n",
       "         2.14832],\n",
       "       [-0.17373,  0.09946,  0.10456, -0.08657, -0.25705, -0.12835, -0.1625 ,  0.0929 ,  0.16287,  0.0916 ,\n",
       "        -0.07949, -0.03925, -0.07207, -0.09129, -0.04177,  0.00712,  0.26455,  0.07682, -0.10353,  0.09328,\n",
       "        ...,  0.01204,  0.11901,  0.13591, -0.07247, -0.04294,  0.03629, -0.05623,  0.08058,  0.04576,\n",
       "        -0.00324,  0.04218,  0.11013,  0.00152,  0.16647, -0.16981, -0.01927,  0.07373, -2.46599,  0.18372,\n",
       "         1.05226],\n",
       "       [-0.17373,  0.09946,  0.10456, -0.08657, -0.25705,  0.01297,  0.0945 , -0.09488, -0.17148,  0.03612,\n",
       "        -0.03703,  0.12042, -0.1568 ,  0.08524, -0.07264,  0.15222, -0.10368, -0.0181 ,  0.12219, -0.00807,\n",
       "        ...,  0.06467, -0.008  , -0.02443, -0.05261, -0.05487,  0.16925,  0.08435,  0.10488,  0.09259,\n",
       "        -0.15265,  0.09063,  0.1501 ,  0.12989, -0.01046, -0.14218,  0.12865, -0.04612, -0.52016, -1.71094,\n",
       "         3.96522]], dtype=float32)"
      ]
     },
     "execution_count": 25,
     "metadata": {},
     "output_type": "execute_result"
    }
   ],
   "source": [
    "embedded_features_model.predict(proc_X_train_f)[:,:-13]"
   ]
  },
  {
   "cell_type": "code",
   "execution_count": null,
   "metadata": {
    "collapsed": true
   },
   "outputs": [],
   "source": [
    "len(emb_szs)"
   ]
  },
  {
   "cell_type": "code",
   "execution_count": null,
   "metadata": {
    "collapsed": true
   },
   "outputs": [],
   "source": []
  }
 ],
 "metadata": {
  "kernelspec": {
   "display_name": "mlpython",
   "language": "python",
   "name": "mlpython"
  },
  "language_info": {
   "codemirror_mode": {
    "name": "ipython",
    "version": 3
   },
   "file_extension": ".py",
   "mimetype": "text/x-python",
   "name": "python",
   "nbconvert_exporter": "python",
   "pygments_lexer": "ipython3",
   "version": "3.6.6"
  }
 },
 "nbformat": 4,
 "nbformat_minor": 2
}
